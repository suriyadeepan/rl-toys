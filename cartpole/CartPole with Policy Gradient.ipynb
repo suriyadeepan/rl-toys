{
 "cells": [
  {
   "cell_type": "markdown",
   "metadata": {},
   "source": [
    "# Cart Pole with Policy Gradient\n",
    "\n",
    "[reference](https://medium.com/@awjuliani/super-simple-reinforcement-learning-tutorial-part-2-ded33892c724)\n",
    "\n",
    "[ *policy based agent*, *cart pole game*, *delayed reward* ]"
   ]
  },
  {
   "cell_type": "markdown",
   "metadata": {},
   "source": [
    "Also try [Vanilla Policy Gradient with 2 neuron action space](https://github.com/awjuliani/DeepRL-Agents/blob/master/Vanilla-Policy.ipynb)"
   ]
  },
  {
   "cell_type": "code",
   "execution_count": 1,
   "metadata": {
    "collapsed": true
   },
   "outputs": [],
   "source": [
    "import tensorflow as tf\n",
    "import numpy as np\n",
    "\n",
    "import matplotlib.pyplot as plt\n",
    "%matplotlib inline\n",
    "\n",
    "import math"
   ]
  },
  {
   "cell_type": "code",
   "execution_count": 2,
   "metadata": {
    "collapsed": false
   },
   "outputs": [
    {
     "name": "stderr",
     "output_type": "stream",
     "text": [
      "[2016-12-20 16:33:20,223] Making new env: CartPole-v0\n"
     ]
    }
   ],
   "source": [
    "import gym\n",
    "# setup env\n",
    "env = gym.make('CartPole-v0')"
   ]
  },
  {
   "cell_type": "code",
   "execution_count": 3,
   "metadata": {
    "collapsed": true
   },
   "outputs": [],
   "source": [
    "# network parameters\n",
    "num_hidden = 10\n",
    "batch_size = 50\n",
    "lr = 0.01\n",
    "discount = 0.99\n",
    "num_input   = 4 # 4 observations\n",
    "num_actions = 2 # left/right"
   ]
  },
  {
   "cell_type": "code",
   "execution_count": 7,
   "metadata": {
    "collapsed": false
   },
   "outputs": [],
   "source": [
    "tf.reset_default_graph()\n",
    "# observations - fed as input - [batch_size, 4]\n",
    "obs = tf.placeholder(shape=[None,num_input],dtype=tf.float32)\n",
    "W1 = tf.get_variable(\"W1\", shape=[num_input, num_hidden],\n",
    "           initializer=tf.contrib.layers.xavier_initializer()) # fancy way of initialization\n",
    "h1 = tf.nn.relu(tf.matmul(obs,W1))\n",
    "W2 = tf.get_variable(\"W2\", shape=[num_hidden, 1],\n",
    "           initializer=tf.contrib.layers.xavier_initializer()) \n",
    "action_prob = tf.nn.sigmoid(tf.matmul(h1,W2))\n",
    "\n",
    "# we need to collect the gradients and\n",
    "#  update the network later\n",
    "# keep track of gradients\n",
    "train_vars = tf.trainable_variables()\n",
    "\n",
    "# training \n",
    "action_prob_ = tf.placeholder(shape=[None,1], dtype=tf.float32)\n",
    "# reward signal\n",
    "advantages = tf.placeholder(shape=[1], dtype=tf.float32)\n",
    "loglik = tf.log(action_prob_*(action_prob_ - action_prob) + (1 - action_prob_)*(action_prob_ + action_prob))\n",
    "loss = -tf.reduce_mean(loglik * advantages) # increase the likelihood of the action that yields \"advantageous\" action\n",
    "#   action with high reward\n",
    "\n",
    "# constructs symbolic partial derivatives of loss w.r.t. trainable variables\n",
    "gradients = tf.gradients(loss, train_vars)\n",
    "\n",
    "# we collect a series of gradients from running multiple episodes\n",
    "#  and then apply them - why? to account for noise in the reward signal!\n",
    "w1grad = tf.placeholder(tf.float32)\n",
    "w2grad = tf.placeholder(tf.float32)\n",
    "wgrad = [w1grad, w2grad]\n",
    "update_grad = tf.train.AdamOptimizer(learning_rate=lr).apply_gradients(zip(wgrad,train_vars))"
   ]
  },
  {
   "cell_type": "code",
   "execution_count": null,
   "metadata": {
    "collapsed": true
   },
   "outputs": [],
   "source": []
  },
  {
   "cell_type": "code",
   "execution_count": null,
   "metadata": {
    "collapsed": true
   },
   "outputs": [],
   "source": []
  },
  {
   "cell_type": "code",
   "execution_count": null,
   "metadata": {
    "collapsed": true
   },
   "outputs": [],
   "source": []
  },
  {
   "cell_type": "code",
   "execution_count": null,
   "metadata": {
    "collapsed": true
   },
   "outputs": [],
   "source": []
  },
  {
   "cell_type": "code",
   "execution_count": null,
   "metadata": {
    "collapsed": true
   },
   "outputs": [],
   "source": []
  },
  {
   "cell_type": "code",
   "execution_count": null,
   "metadata": {
    "collapsed": true
   },
   "outputs": [],
   "source": []
  }
 ],
 "metadata": {
  "kernelspec": {
   "display_name": "Python 3",
   "language": "python",
   "name": "python3"
  },
  "language_info": {
   "codemirror_mode": {
    "name": "ipython",
    "version": 3
   },
   "file_extension": ".py",
   "mimetype": "text/x-python",
   "name": "python",
   "nbconvert_exporter": "python",
   "pygments_lexer": "ipython3",
   "version": "3.5.2"
  }
 },
 "nbformat": 4,
 "nbformat_minor": 0
}
