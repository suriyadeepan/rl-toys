{
 "cells": [
  {
   "cell_type": "markdown",
   "metadata": {},
   "source": [
    "# Frozen Lake\n",
    "\n",
    "[Reference](https://medium.com/emergent-future/simple-reinforcement-learning-with-tensorflow-part-0-q-learning-with-tables-and-neural-networks-d195264329d0)"
   ]
  },
  {
   "cell_type": "code",
   "execution_count": 1,
   "metadata": {
    "collapsed": true
   },
   "outputs": [],
   "source": [
    "import gym\n",
    "import numpy as np"
   ]
  },
  {
   "cell_type": "code",
   "execution_count": 60,
   "metadata": {
    "collapsed": false
   },
   "outputs": [
    {
     "name": "stderr",
     "output_type": "stream",
     "text": [
      "[2016-12-19 10:26:50,743] Making new env: FrozenLake-v0\n"
     ]
    }
   ],
   "source": [
    "env = gym.make('FrozenLake-v0')"
   ]
  },
  {
   "cell_type": "code",
   "execution_count": 61,
   "metadata": {
    "collapsed": false
   },
   "outputs": [
    {
     "name": "stdout",
     "output_type": "stream",
     "text": [
      "Discrete(16)\n",
      "16\n",
      "7\n",
      "Discrete(4)\n",
      "4\n",
      "3\n"
     ]
    }
   ],
   "source": [
    "# poking at the env\n",
    "print(env.observation_space)\n",
    "print(env.observation_space.n)\n",
    "print(env.observation_space.sample())\n",
    "print(env.action_space)\n",
    "print(env.action_space.n)\n",
    "print(env.action_space.sample())"
   ]
  },
  {
   "cell_type": "markdown",
   "metadata": {},
   "source": [
    "## Q-Table Learning Algorithm"
   ]
  },
  {
   "cell_type": "code",
   "execution_count": 62,
   "metadata": {
    "collapsed": true
   },
   "outputs": [],
   "source": [
    "# we need a table with rows of states and columns of actions : [16x4]\n",
    "Q = np.zeros([env.observation_space.n, env.action_space.n])"
   ]
  },
  {
   "cell_type": "code",
   "execution_count": 63,
   "metadata": {
    "collapsed": true
   },
   "outputs": [],
   "source": [
    "# parameters\n",
    "lr = 0.85 # learning rate\n",
    "y = 0.99 # discount factor\n",
    "num_epi = 2000 # num of episodes of the game"
   ]
  },
  {
   "cell_type": "code",
   "execution_count": 65,
   "metadata": {
    "collapsed": false
   },
   "outputs": [
    {
     "name": "stdout",
     "output_type": "stream",
     "text": [
      "Game 0; reward : 0.0\n",
      "Game 200; reward : 0.0\n",
      "Game 400; reward : 1.0\n",
      "Game 600; reward : 1.0\n",
      "Game 800; reward : 0.0\n",
      "Game 1000; reward : 1.0\n",
      "Game 1200; reward : 1.0\n",
      "Game 1400; reward : 1.0\n",
      "Game 1600; reward : 1.0\n",
      "Game 1800; reward : 1.0\n"
     ]
    }
   ],
   "source": [
    "# list of rewards\n",
    "rlist = []\n",
    "for i in range(num_epi):\n",
    "    # get observation --> state\n",
    "    s = env.reset()\n",
    "    # sum of rewards in single episode\n",
    "    rAll = 0\n",
    "    done = False\n",
    "    while not done:\n",
    "    #for j in range(99):\n",
    "        # pick an action for state 's'\n",
    "        #  Choose the best action with some noise\n",
    "        #   the interesting thing about the noise is that it decreases with 'i' (episode count)\n",
    "        #     as the algorithm runs, the actions become less stochastic with time\n",
    "        a = np.argmax(Q[s,:] + np.random.randn(1, env.action_space.n)* (1.0/(i+1)))\n",
    "        # get a new state based on chosen action 'a'\n",
    "        s1, r, done, _ = env.step(a)\n",
    "        # we have taken the best action (afwk) and moved to a new state\n",
    "        #  Update Q-table based on this observation\n",
    "        Q[s,a] = Q[s,a] + lr * (r + y*np.max(Q[s1,:]) - Q[s,a]) # i do not understand why we need the -Q[s,a] term\n",
    "        # keep a sum of rewards\n",
    "        rAll += r\n",
    "        # update state\n",
    "        s = s1\n",
    "    if i%200 == 0:\n",
    "        print('Game {0}; reward : {1}'.format(i, rAll))\n",
    "    rlist.append(rAll)"
   ]
  },
  {
   "cell_type": "code",
   "execution_count": 71,
   "metadata": {
    "collapsed": false
   },
   "outputs": [
    {
     "name": "stdout",
     "output_type": "stream",
     "text": [
      "Score over time: 0.6985\n"
     ]
    }
   ],
   "source": [
    "print(\"Score over time: \" +  str(sum(rlist)/num_epi))"
   ]
  },
  {
   "cell_type": "code",
   "execution_count": 72,
   "metadata": {
    "collapsed": false
   },
   "outputs": [
    {
     "data": {
      "text/plain": [
       "array([[  2.16348932e-02,   3.66954096e-02,   4.96933434e-01,\n",
       "          4.01923075e-02],\n",
       "       [  1.11051839e-02,   1.25086576e-02,   9.36680125e-03,\n",
       "          3.70455969e-01],\n",
       "       [  1.32716448e-02,   1.08937260e-02,   2.94399188e-03,\n",
       "          2.36624308e-01],\n",
       "       [  2.06632793e-04,   6.19746500e-03,   1.01099854e-03,\n",
       "          1.58904536e-01],\n",
       "       [  2.83145833e-01,   9.62075950e-04,   3.97838146e-05,\n",
       "          9.57423973e-05],\n",
       "       [  0.00000000e+00,   0.00000000e+00,   0.00000000e+00,\n",
       "          0.00000000e+00],\n",
       "       [  5.40416928e-08,   1.18472746e-04,   3.86485812e-03,\n",
       "          5.67433630e-04],\n",
       "       [  0.00000000e+00,   0.00000000e+00,   0.00000000e+00,\n",
       "          0.00000000e+00],\n",
       "       [  7.64775436e-03,   2.90509312e-06,   1.18510834e-03,\n",
       "          1.82251273e-01],\n",
       "       [  2.70691183e-03,   6.09400166e-01,   5.05206636e-03,\n",
       "          1.28170349e-03],\n",
       "       [  1.10688345e-01,   3.14308638e-04,   7.64293157e-04,\n",
       "          7.73880470e-07],\n",
       "       [  0.00000000e+00,   0.00000000e+00,   0.00000000e+00,\n",
       "          0.00000000e+00],\n",
       "       [  0.00000000e+00,   0.00000000e+00,   0.00000000e+00,\n",
       "          0.00000000e+00],\n",
       "       [  0.00000000e+00,   0.00000000e+00,   7.43417858e-01,\n",
       "          6.65315174e-03],\n",
       "       [  0.00000000e+00,   0.00000000e+00,   9.49465803e-01,\n",
       "          0.00000000e+00],\n",
       "       [  0.00000000e+00,   0.00000000e+00,   0.00000000e+00,\n",
       "          0.00000000e+00]])"
      ]
     },
     "execution_count": 72,
     "metadata": {},
     "output_type": "execute_result"
    }
   ],
   "source": [
    "Q"
   ]
  }
 ],
 "metadata": {
  "kernelspec": {
   "display_name": "Python 3",
   "language": "python",
   "name": "python3"
  },
  "language_info": {
   "codemirror_mode": {
    "name": "ipython",
    "version": 3
   },
   "file_extension": ".py",
   "mimetype": "text/x-python",
   "name": "python",
   "nbconvert_exporter": "python",
   "pygments_lexer": "ipython3",
   "version": "3.5.2"
  }
 },
 "nbformat": 4,
 "nbformat_minor": 0
}
